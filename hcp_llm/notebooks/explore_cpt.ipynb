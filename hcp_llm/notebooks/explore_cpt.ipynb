{
 "cells": [
  {
   "cell_type": "code",
   "execution_count": 10,
   "metadata": {},
   "outputs": [],
   "source": [
    "import os\n",
    "os.chdir(os.getcwd() + \"/../../\")"
   ]
  },
  {
   "cell_type": "code",
   "execution_count": 11,
   "metadata": {},
   "outputs": [],
   "source": [
    "from hcp_llm.interfaces import (\n",
    "    get_summary_dict,\n",
    "    PubMedScrapper\n",
    ")\n",
    "from hcp_llm import general_settings, OpenAISettings\n",
    "from hcp_llm.interfaces._Summarizer import SummarizerAI"
   ]
  },
  {
   "cell_type": "code",
   "execution_count": 12,
   "metadata": {},
   "outputs": [],
   "source": [
    "settings = general_settings()\n",
    "settings['openai_key'] = OpenAISettings().openai_key"
   ]
  },
  {
   "cell_type": "code",
   "execution_count": 13,
   "metadata": {},
   "outputs": [],
   "source": [
    "scrapper = PubMedScrapper(query = 'COSENTYX PSA')\n",
    "data = scrapper.get_data()"
   ]
  },
  {
   "cell_type": "code",
   "execution_count": 14,
   "metadata": {},
   "outputs": [],
   "source": [
    "data = data.sample(settings['sample_data'])"
   ]
  },
  {
   "cell_type": "code",
   "execution_count": 15,
   "metadata": {},
   "outputs": [],
   "source": [
    "overall_summary = {}\n",
    "for ID in data.id:\n",
    "    df = data[data['id'] == ID]\n",
    "    summary = get_summary_dict(settings, 'COSENTYX PSA', data.text.unique()[0])\n",
    "    overall_summary[ID] = summary"
   ]
  },
  {
   "cell_type": "code",
   "execution_count": 51,
   "metadata": {},
   "outputs": [],
   "source": [
    "ids = list(data.id)\n",
    "brand = 'COSENTYX PSA'\n",
    "general = '\\n'.join([overall_summary[x]['A'] for x in ids])\n",
    "positive_impact = '\\n'.join([overall_summary[x]['B'] for x in ids])\n",
    "quantitative_examples = '\\n'.join([overall_summary[x]['C'] for x in ids])\n",
    "side_effects = '\\n'.join([overall_summary[x]['D'] for x in ids])"
   ]
  },
  {
   "cell_type": "code",
   "execution_count": 58,
   "metadata": {},
   "outputs": [
    {
     "data": {
      "text/plain": [
       "['38024204', '38360699']"
      ]
     },
     "execution_count": 58,
     "metadata": {},
     "output_type": "execute_result"
    }
   ],
   "source": [
    "list(overall_summary.keys())"
   ]
  }
 ],
 "metadata": {
  "kernelspec": {
   "display_name": "llm_nvs",
   "language": "python",
   "name": "python3"
  },
  "language_info": {
   "codemirror_mode": {
    "name": "ipython",
    "version": 3
   },
   "file_extension": ".py",
   "mimetype": "text/x-python",
   "name": "python",
   "nbconvert_exporter": "python",
   "pygments_lexer": "ipython3",
   "version": "3.9.18"
  },
  "orig_nbformat": 4
 },
 "nbformat": 4,
 "nbformat_minor": 2
}
